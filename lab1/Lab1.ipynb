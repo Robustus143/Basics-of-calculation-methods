{
 "cells": [
  {
   "cell_type": "markdown",
   "metadata": {},
   "source": [
    "Кузь Володимир МСС-3\n",
    "\n",
    "Лаборатона робота №1\n",
    "\n",
    "Знаходження коренів рівнянь чисельними методами"
   ]
  },
  {
   "cell_type": "code",
   "execution_count": 1,
   "metadata": {},
   "outputs": [],
   "source": [
    "import matplotlib.pyplot as plt\n",
    "import numpy as np\n",
    "import math"
   ]
  },
  {
   "cell_type": "code",
   "execution_count": 29,
   "metadata": {},
   "outputs": [],
   "source": [
    "from sympy import *\n",
    "import sympy"
   ]
  },
  {
   "cell_type": "code",
   "execution_count": 31,
   "metadata": {},
   "outputs": [],
   "source": [
    "x = sympy.Symbol('x')\n",
    "def f(x):\n",
    "    f = x**3 - 2*x - 2/5\n",
    "    return f\n",
    "def dif(x):\n",
    "    x = sympy.Symbol('x')\n",
    "    df = diff(x**3 - 2*x - 2/5,x)\n",
    "    return df"
   ]
  },
  {
   "cell_type": "code",
   "execution_count": 24,
   "metadata": {},
   "outputs": [
    {
     "data": {
      "image/png": "[encoded data removed]",
      "text/plain": [
       "<Figure size 432x288 with 1 Axes>"
      ]
     },
     "metadata": {
      "needs_background": "light"
     },
     "output_type": "display_data"
    }
   ],
   "source": [
    "x = np.linspace(-2,2,100)\n",
    "plt.plot(x, f(x), color='red')\n",
    "plt.show()"
   ]
  },
  {
   "cell_type": "markdown",
   "metadata": {},
   "source": [
    "# Метод дихотомії"
   ]
  },
  {
   "cell_type": "code",
   "execution_count": 41,
   "metadata": {},
   "outputs": [
    {
     "name": "stdout",
     "output_type": "stream",
     "text": [
      "16\n"
     ]
    },
    {
     "data": {
      "text/plain": [
       "1.5052642822265625"
      ]
     },
     "execution_count": 41,
     "metadata": {},
     "output_type": "execute_result"
    }
   ],
   "source": [
    "def binary_search():\n",
    "    a = -3\n",
    "    b = 3\n",
    "    e = 10**(-4)\n",
    "    k = 0\n",
    "    while abs(b-a) > e:\n",
    "        t = (a + b)/2\n",
    "        f1 = f(a)\n",
    "        f2 = f(t)\n",
    "        k+= 1\n",
    "        if f1*f2 <= 0:\n",
    "            b = t\n",
    "        else: \n",
    "            a = t\n",
    "            f1 = f(t)\n",
    "    res = (a+b)/2\n",
    "    print(k)\n",
    "    return res\n",
    "binary_search()"
   ]
  },
  {
   "cell_type": "markdown",
   "metadata": {},
   "source": [
    "# Метод Ньютона"
   ]
  },
  {
   "cell_type": "code",
   "execution_count": 42,
   "metadata": {
    "scrolled": true
   },
   "outputs": [
    {
     "name": "stdout",
     "output_type": "stream",
     "text": [
      "5\n"
     ]
    },
    {
     "data": {
      "text/latex": [
       "$\\displaystyle 1.50523714354425$"
      ],
      "text/plain": [
       "1.50523714354425"
      ]
     },
     "execution_count": 42,
     "metadata": {},
     "output_type": "execute_result"
    }
   ],
   "source": [
    "def newton():\n",
    "    k = 0\n",
    "    x0 = 3\n",
    "    x1 = x0 - f(x0)/dif(x).subs(x, x0)\n",
    "    e = 10**(-4)\n",
    "    while abs(x1 - x0) > e:\n",
    "        x0 = x1\n",
    "        x1 = x0 - f(x0)/dif(x).subs(x, x0)\n",
    "        k += 1\n",
    "    print(k)\n",
    "    return x1\n",
    "newton()       "
   ]
  },
  {
   "cell_type": "markdown",
   "metadata": {},
   "source": [
    "# Метод релаксації"
   ]
  },
  {
   "cell_type": "code",
   "execution_count": 45,
   "metadata": {},
   "outputs": [
    {
     "name": "stdout",
     "output_type": "stream",
     "text": [
      "114\n"
     ]
    },
    {
     "data": {
      "text/plain": [
       "1.5071806175984168"
      ]
     },
     "execution_count": 45,
     "metadata": {},
     "output_type": "execute_result"
    }
   ],
   "source": [
    "def relax():\n",
    "    k = 0\n",
    "    e = 10**(-4)\n",
    "    x0 = 3\n",
    "    a = -1/100\n",
    "    x1 = x0 + a*f(x0)\n",
    "    while abs(x1-x0) > e:\n",
    "        k += 1 \n",
    "        x0 = x1\n",
    "        x1 = x0 + a*f(x0)\n",
    "    print(k)\n",
    "    return x1\n",
    "relax()"
   ]
  },
  {
   "cell_type": "code",
   "execution_count": 36,
   "metadata": {},
   "outputs": [
    {
     "data": {
      "text/latex": [
       "$\\displaystyle -0.25$"
      ],
      "text/plain": [
       "-0.250000000000000"
      ]
     },
     "execution_count": 36,
     "metadata": {},
     "output_type": "execute_result"
    }
   ],
   "source": [
    "dif(x).subs(x, 3)*(-1/100)"
   ]
  },
  {
   "cell_type": "code",
   "execution_count": null,
   "metadata": {},
   "outputs": [],
   "source": []
  }
 ],
 "metadata": {
  "kernelspec": {
   "display_name": "Python 3",
   "language": "python",
   "name": "python3"
  },
  "language_info": {
   "codemirror_mode": {
    "name": "ipython",
    "version": 3
   },
   "file_extension": ".py",
   "mimetype": "text/x-python",
   "name": "python",
   "nbconvert_exporter": "python",
   "pygments_lexer": "ipython3",
   "version": "3.8.5"
  }
 },
 "nbformat": 4,
 "nbformat_minor": 4
}
