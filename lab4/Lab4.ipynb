{
 "cells": [
  {
   "cell_type": "markdown",
   "metadata": {},
   "source": [
    "Кузь Володимир МСС-3"
   ]
  },
  {
   "cell_type": "code",
   "execution_count": 1,
   "metadata": {},
   "outputs": [],
   "source": [
    "import numpy as np\n",
    "import matplotlib.pyplot as plt\n",
    "import sympy as sp\n",
    "from scipy.interpolate import CubicSpline, interp1d\n",
    "import pprint"
   ]
  },
  {
   "cell_type": "code",
   "execution_count": 2,
   "metadata": {},
   "outputs": [],
   "source": [
    "def f(x):\n",
    "    return x**4 + x**3 + 2*x - np.cos(x)"
   ]
  },
  {
   "cell_type": "code",
   "execution_count": 65,
   "metadata": {},
   "outputs": [
    {
     "data": {
      "text/plain": [
       "-3.4596976941318602"
      ]
     },
     "execution_count": 65,
     "metadata": {},
     "output_type": "execute_result"
    }
   ],
   "source": [
    "a = 0\n",
    "b = 1\n",
    "f(a)*f(b)"
   ]
  },
  {
   "cell_type": "code",
   "execution_count": 66,
   "metadata": {},
   "outputs": [
    {
     "name": "stdout",
     "output_type": "stream",
     "text": [
      "[0.05 0.1  0.15 0.2  0.25 0.3  0.35 0.4  0.45 0.5  0.55 0.6  0.65 0.7\n",
      " 0.75 0.8  0.85 0.9  0.95 1.  ]\n",
      "[-0.89861901 -0.79390417 -0.68488983 -0.57046658 -0.44938117 -0.32023649\n",
      " -0.18149146 -0.03146099  0.13168415  0.30991744  0.50535673  0.72026439\n",
      "  0.95704745  1.21825781  1.50659238  1.82489329  2.1761481   2.56349003\n",
      "  2.99019816  3.45969769]\n"
     ]
    }
   ],
   "source": [
    "n = 20\n",
    "h = (b - a) / n\n",
    "def arrays(a, b, n, h):\n",
    "    x = np.zeros(n)\n",
    "    y = np.zeros(n)\n",
    "    for i in range(n):\n",
    "        x[i] += h + h*i\n",
    "        y[i] = f(x[i])\n",
    "    return x, y\n",
    "xi, yi = arrays(a, b, n, h)\n",
    "print(xi)\n",
    "print(yi)\n",
    "        "
   ]
  },
  {
   "cell_type": "markdown",
   "metadata": {},
   "source": [
    "# Поліном Лагранжа"
   ]
  },
  {
   "cell_type": "code",
   "execution_count": 67,
   "metadata": {},
   "outputs": [],
   "source": [
    "def lagrange(xi, yi, n):\n",
    "    x = sp.Symbol('x')\n",
    "    l = 0\n",
    "    for i in range(n):\n",
    "        x1 = 1\n",
    "        x2 = 1\n",
    "        for j in range(n):\n",
    "            if i != j:\n",
    "                x1 *= x - xi[j]\n",
    "                x2 *= xi[i] - xi[j]\n",
    "        l += yi[i] * x1 / x2\n",
    "    return sp.expand(l)"
   ]
  },
  {
   "cell_type": "code",
   "execution_count": 68,
   "metadata": {},
   "outputs": [
    {
     "data": {
      "text/latex": [
       "$\\displaystyle 0.00025177001953125 x^{19} + 0.01513671875 x^{18} - 0.08154296875 x^{17} - 0.05078125 x^{16} - 0.578125 x^{15} + 0.5859375 x^{14} - 0.30859375 x^{13} + 1.0546875 x^{12} - 0.1640625 x^{11} + 0.107421875 x^{10} - 0.025390625 x^{9} - 0.001220703125 x^{8} + 0.00152587890625 x^{7} + 0.0017547607421875 x^{6} + 0.000308990478515625 x^{5} + 0.95833945274353 x^{4} + 1.0000019967556 x^{3} + 0.499999970197678 x^{2} + 1.99999999639113 x - 0.999999999994088$"
      ],
      "text/plain": [
       "0.00025177001953125*x**19 + 0.01513671875*x**18 - 0.08154296875*x**17 - 0.05078125*x**16 - 0.578125*x**15 + 0.5859375*x**14 - 0.30859375*x**13 + 1.0546875*x**12 - 0.1640625*x**11 + 0.107421875*x**10 - 0.025390625*x**9 - 0.001220703125*x**8 + 0.00152587890625*x**7 + 0.0017547607421875*x**6 + 0.000308990478515625*x**5 + 0.95833945274353*x**4 + 1.0000019967556*x**3 + 0.499999970197678*x**2 + 1.99999999639113*x - 0.999999999994088"
      ]
     },
     "execution_count": 68,
     "metadata": {},
     "output_type": "execute_result"
    }
   ],
   "source": [
    "lagrange(xi, yi, n)"
   ]
  },
  {
   "cell_type": "markdown",
   "metadata": {},
   "source": [
    "# Поліном Ньютона"
   ]
  },
  {
   "cell_type": "code",
   "execution_count": 69,
   "metadata": {},
   "outputs": [],
   "source": [
    "def divided_coef(xi, yi, n):\n",
    "    x = np.copy(xi)\n",
    "    c = np.copy(yi)\n",
    "    for i in range(1, n):\n",
    "        c[i:n] = (c[i:n] - c[i - 1])/(x[i:n] - x[i - 1])\n",
    "    return c"
   ]
  },
  {
   "cell_type": "code",
   "execution_count": 70,
   "metadata": {},
   "outputs": [],
   "source": [
    "def newton(xi, yi, n):\n",
    "    x = sp.Symbol('x')\n",
    "    c = divided_coef(xi, yi, n)\n",
    "    p = c[n-1]\n",
    "    for i in range(1,n):\n",
    "        p = c[n-1-i] + (x - xi[n-1-i])*p\n",
    "    return sp.expand(p)"
   ]
  },
  {
   "cell_type": "code",
   "execution_count": 71,
   "metadata": {},
   "outputs": [
    {
     "data": {
      "text/latex": [
       "$\\displaystyle - 0.000429858518949023 x^{19} + 0.00434390770886289 x^{18} - 0.0204243205231248 x^{17} + 0.0593306274516931 x^{16} - 0.119244114333927 x^{15} + 0.175962190791224 x^{14} - 0.197440366252131 x^{13} + 0.172128814174432 x^{12} - 0.118122162127501 x^{11} + 0.0642510579823466 x^{10} - 0.0277573807414218 x^{9} + 0.00947682137515383 x^{8} - 0.00255948639821822 x^{7} + 0.00192497423144156 x^{6} - 8.57032995195485 \\cdot 10^{-5} x^{5} + 0.958343505122753 x^{4} + 0.999999140813751 x^{3} + 0.500000048241683 x^{2} + 1.99999999841053 x - 0.999999999977223$"
      ],
      "text/plain": [
       "-0.000429858518949023*x**19 + 0.00434390770886289*x**18 - 0.0204243205231248*x**17 + 0.0593306274516931*x**16 - 0.119244114333927*x**15 + 0.175962190791224*x**14 - 0.197440366252131*x**13 + 0.172128814174432*x**12 - 0.118122162127501*x**11 + 0.0642510579823466*x**10 - 0.0277573807414218*x**9 + 0.00947682137515383*x**8 - 0.00255948639821822*x**7 + 0.00192497423144156*x**6 - 8.57032995195485e-5*x**5 + 0.958343505122753*x**4 + 0.999999140813751*x**3 + 0.500000048241683*x**2 + 1.99999999841053*x - 0.999999999977223"
      ]
     },
     "execution_count": 71,
     "metadata": {},
     "output_type": "execute_result"
    }
   ],
   "source": [
    "newton(xi, yi, n)"
   ]
  },
  {
   "cell_type": "markdown",
   "metadata": {},
   "source": [
    "# Кубічний сплайн"
   ]
  },
  {
   "cell_type": "code",
   "execution_count": 72,
   "metadata": {},
   "outputs": [],
   "source": [
    "def matrixA(xi, n):\n",
    "    A = np.zeros((n-2, n-2))\n",
    "    for i in range(n-2):\n",
    "        for j in range(n-2):\n",
    "            if i == j:\n",
    "                A[i][j] = (xi[i]+xi[i+1])/3\n",
    "                if i < n-3:\n",
    "                    A[i+1][j] = xi[i+1]/6\n",
    "                if i > 0:\n",
    "                    A[i-1][j] = xi[i-1]/6\n",
    "    return A\n",
    "A = matrixA(xi, n)                "
   ]
  },
  {
   "cell_type": "code",
   "execution_count": 73,
   "metadata": {},
   "outputs": [],
   "source": [
    "def matrixH(xi, n):\n",
    "    H = np.zeros((n-2, n))\n",
    "    for i in range(n-2):\n",
    "        for j in range(n):\n",
    "            if i == j:\n",
    "                H[i][j] = 1/xi[i]\n",
    "                H[i][j+1] = -1/xi[i] - 1/xi[j+1]\n",
    "                H[i][j+2] = 1/xi[j+2]\n",
    "    return H\n",
    "H = matrixH(xi, n)     "
   ]
  },
  {
   "cell_type": "code",
   "execution_count": 74,
   "metadata": {},
   "outputs": [],
   "source": [
    "C = np.dot(np.linalg.inv(A),np.dot(H,yi))"
   ]
  },
  {
   "cell_type": "code",
   "execution_count": 75,
   "metadata": {},
   "outputs": [],
   "source": [
    "def cubspline(xi, yi, n):\n",
    "    x = sp.Symbol('x')\n",
    "    a = 0\n",
    "    b = 0\n",
    "    d = 0\n",
    "    S = 0\n",
    "    for i in range(1, n-2):\n",
    "        a = yi[i]\n",
    "        d = (C[i]-C[i-1])/xi[i]\n",
    "        b = ((xi[i] / 2) * C[i]) - ((xi[i]*xi[i]*d)/ 6) + ((yi[i] - yi[i-1]) / xi[i])\n",
    "        S += a + b*(x - xi[i]) + (C[i]/2)*(x-xi[i])**2 + (d/6)*(x-xi[i])**3\n",
    "    return S"
   ]
  },
  {
   "cell_type": "code",
   "execution_count": 76,
   "metadata": {},
   "outputs": [
    {
     "data": {
      "text/latex": [
       "$\\displaystyle 7.85073185235388 x - 0.00979411265199442 \\left(x - 0.9\\right)^{3} - 0.110825668255793 \\left(x - 0.9\\right)^{2} + 0.00372008009806456 \\left(x - 0.85\\right)^{3} - 0.084381564095408 \\left(x - 0.85\\right)^{2} + 0.00020749841939969 \\left(x - 0.8\\right)^{3} - 0.0938677683454726 \\left(x - 0.8\\right)^{2} + 0.00137584466037289 \\left(x - 0.75\\right)^{3} - 0.0943657645520319 \\left(x - 0.75\\right)^{2} + 0.00123954703176189 \\left(x - 0.7\\right)^{3} - 0.0974614150378709 \\left(x - 0.7\\right)^{2} + 0.00138524368662747 \\left(x - 0.65\\right)^{3} - 0.100064463804571 \\left(x - 0.65\\right)^{2} + 0.00124091631701289 \\left(x - 0.6\\right)^{3} - 0.102765688993494 \\left(x - 0.6\\right)^{2} + 0.000698824243871652 \\left(x - 0.55\\right)^{3} - 0.104999338364118 \\left(x - 0.55\\right)^{2} - 0.000921130786123214 \\left(x - 0.5\\right)^{3} - 0.106152398366506 \\left(x - 0.5\\right)^{2} - 0.00451754344657719 \\left(x - 0.45\\right)^{3} - 0.104770702187321 \\left(x - 0.45\\right)^{2} - 0.0148776425617472 \\left(x - 0.4\\right)^{3} - 0.0986720185344418 \\left(x - 0.4\\right)^{2} - 0.0324527883554657 \\left(x - 0.35\\right)^{3} - 0.0808188474603452 \\left(x - 0.35\\right)^{2} - 0.115809326125754 \\left(x - 0.3\\right)^{3} - 0.0467434196871062 \\left(x - 0.3\\right)^{2} - 0.165699895316183 \\left(x - 0.25\\right)^{3} + 0.0574849738260724 \\left(x - 0.25\\right)^{2} - 1.35412664752481 \\left(x - 0.2\\right)^{3} + 0.18175989531321 \\left(x - 0.2\\right)^{2} - 0.0532610317631474 \\left(x - 0.15\\right)^{3} + 0.994235883828094 \\left(x - 0.15\\right)^{2} - 38.6674057862331 \\left(x - 0.1\\right)^{3} + 1.01820334812151 \\left(x - 0.1\\right)^{2} + 5.81538204054306$"
      ],
      "text/plain": [
       "7.85073185235388*x - 0.00979411265199442*(x - 0.9)**3 - 0.110825668255793*(x - 0.9)**2 + 0.00372008009806456*(x - 0.85)**3 - 0.084381564095408*(x - 0.85)**2 + 0.00020749841939969*(x - 0.8)**3 - 0.0938677683454726*(x - 0.8)**2 + 0.00137584466037289*(x - 0.75)**3 - 0.0943657645520319*(x - 0.75)**2 + 0.00123954703176189*(x - 0.7)**3 - 0.0974614150378709*(x - 0.7)**2 + 0.00138524368662747*(x - 0.65)**3 - 0.100064463804571*(x - 0.65)**2 + 0.00124091631701289*(x - 0.6)**3 - 0.102765688993494*(x - 0.6)**2 + 0.000698824243871652*(x - 0.55)**3 - 0.104999338364118*(x - 0.55)**2 - 0.000921130786123214*(x - 0.5)**3 - 0.106152398366506*(x - 0.5)**2 - 0.00451754344657719*(x - 0.45)**3 - 0.104770702187321*(x - 0.45)**2 - 0.0148776425617472*(x - 0.4)**3 - 0.0986720185344418*(x - 0.4)**2 - 0.0324527883554657*(x - 0.35)**3 - 0.0808188474603452*(x - 0.35)**2 - 0.115809326125754*(x - 0.3)**3 - 0.0467434196871062*(x - 0.3)**2 - 0.165699895316183*(x - 0.25)**3 + 0.0574849738260724*(x - 0.25)**2 - 1.35412664752481*(x - 0.2)**3 + 0.18175989531321*(x - 0.2)**2 - 0.0532610317631474*(x - 0.15)**3 + 0.994235883828094*(x - 0.15)**2 - 38.6674057862331*(x - 0.1)**3 + 1.01820334812151*(x - 0.1)**2 + 5.81538204054306"
      ]
     },
     "execution_count": 76,
     "metadata": {},
     "output_type": "execute_result"
    }
   ],
   "source": [
    "cubspline(xi, yi, n)"
   ]
  },
  {
   "cell_type": "markdown",
   "metadata": {},
   "source": [
    "# Графік"
   ]
  },
  {
   "cell_type": "code",
   "execution_count": 77,
   "metadata": {
    "scrolled": true
   },
   "outputs": [],
   "source": [
    "Lagrange = []\n",
    "Newton = []\n",
    "CubSpline = []\n",
    "for i in range(n):\n",
    "    Lagrange.append(lagrange(xi,yi,n).subs('x', xi[i]))\n",
    "    Newton.append(newton(xi,yi,n).subs('x', xi[i]))\n",
    "    CubSpline.append(cubspline(xi,yi,n).subs('x', xi[i]))"
   ]
  },
  {
   "cell_type": "code",
   "execution_count": 78,
   "metadata": {},
   "outputs": [],
   "source": [
    "CS = CubicSpline(xi, yi, bc_type='natural')"
   ]
  },
  {
   "cell_type": "code",
   "execution_count": 79,
   "metadata": {},
   "outputs": [
    {
     "data": {
      "image/png": "[encoded data removed]",
      "text/plain": [
       "<Figure size 1440x1440 with 1 Axes>"
      ]
     },
     "metadata": {
      "needs_background": "light"
     },
     "output_type": "display_data"
    }
   ],
   "source": [
    "fig, ax = plt.subplots(figsize=(20, 20))\n",
    "plt.grid()\n",
    "ax.plot(xi, yi, '^')\n",
    "ax.plot(xi, f(xi), label = 'f', color = 'black')\n",
    "ax.plot(xi, Lagrange, color = 'red')\n",
    "ax.plot(xi, CubSpline, color = 'blue')\n",
    "ax.plot(xi, Newton, color = 'green')\n",
    "ax.plot(xi, CS(xi), color = 'purple')\n",
    "plt.show()"
   ]
  },
  {
   "cell_type": "code",
   "execution_count": null,
   "metadata": {},
   "outputs": [],
   "source": []
  }
 ],
 "metadata": {
  "kernelspec": {
   "display_name": "Python 3",
   "language": "python",
   "name": "python3"
  },
  "language_info": {
   "codemirror_mode": {
    "name": "ipython",
    "version": 3
   },
   "file_extension": ".py",
   "mimetype": "text/x-python",
   "name": "python",
   "nbconvert_exporter": "python",
   "pygments_lexer": "ipython3",
   "version": "3.8.5"
  }
 },
 "nbformat": 4,
 "nbformat_minor": 4
}
