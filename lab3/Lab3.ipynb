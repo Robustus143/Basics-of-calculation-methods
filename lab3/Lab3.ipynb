{
 "cells": [
  {
   "cell_type": "code",
   "execution_count": 1,
   "metadata": {},
   "outputs": [],
   "source": [
    "import networkx as nx \n",
    "import matplotlib.pyplot as plt\n",
    "import pathlib\n",
    "import numpy as np "
   ]
  },
  {
   "cell_type": "code",
   "execution_count": 2,
   "metadata": {},
   "outputs": [],
   "source": [
    "NODE = {'font_color': 'black', 'node_color': 'white', 'with_labels': True}\n",
    "EDGE = {'edgecolors': 'black', 'edge_color': 'black', 'width': 1.5} "
   ]
  },
  {
   "cell_type": "code",
   "execution_count": 3,
   "metadata": {},
   "outputs": [
    {
     "data": {
      "image/png": "[encoded data removed]",
      "text/plain": [
       "<Figure size 432x288 with 1 Axes>"
      ]
     },
     "metadata": {},
     "output_type": "display_data"
    }
   ],
   "source": [
    "root = pathlib.Path(r'E:\\Prog\\3kurs\\omo\\lab3')\n",
    "fname = root.joinpath('g.txt')\n",
    "Graph = nx.read_adjlist(fname, create_using=nx.DiGraph)\n",
    "\n",
    "nx.draw_circular(Graph, **NODE, **EDGE, font_size= 18, node_size = 600)"
   ]
  },
  {
   "cell_type": "code",
   "execution_count": 4,
   "metadata": {},
   "outputs": [
    {
     "name": "stdout",
     "output_type": "stream",
     "text": [
      "[('4', '1'), ('1', '2'), ('3', '2'), ('4', '2'), ('1', '3'), ('2', '3'), ('1', '4'), ('3', '4')]\n"
     ]
    }
   ],
   "source": [
    "edgs = Graph.in_edges\n",
    "print(edgs)"
   ]
  },
  {
   "cell_type": "code",
   "execution_count": 5,
   "metadata": {},
   "outputs": [],
   "source": [
    "n = nx.number_of_nodes(Graph)"
   ]
  },
  {
   "cell_type": "code",
   "execution_count": 6,
   "metadata": {},
   "outputs": [
    {
     "name": "stdout",
     "output_type": "stream",
     "text": [
      "[('1', 3), ('2', 1), ('3', 2), ('4', 2)]\n"
     ]
    }
   ],
   "source": [
    "d = Graph.out_degree\n",
    "print(d)"
   ]
  },
  {
   "cell_type": "code",
   "execution_count": 7,
   "metadata": {},
   "outputs": [
    {
     "name": "stdout",
     "output_type": "stream",
     "text": [
      "{'1': ['2', '3', '4'], '2': ['3'], '3': ['2', '4'], '4': ['1', '2']}\n"
     ]
    }
   ],
   "source": [
    "G = nx.to_dict_of_lists(Graph)\n",
    "print(G)"
   ]
  },
  {
   "cell_type": "code",
   "execution_count": 8,
   "metadata": {},
   "outputs": [
    {
     "name": "stdout",
     "output_type": "stream",
     "text": [
      "[[0.         0.         0.         0.5       ]\n",
      " [0.33333333 0.         0.5        0.5       ]\n",
      " [0.33333333 1.         0.         0.        ]\n",
      " [0.33333333 0.         0.5        0.        ]]\n"
     ]
    }
   ],
   "source": [
    "A = np.zeros((n, n))\n",
    "for x, y in edgs:\n",
    "    A[int(y)-1][int(x)-1] = 1 / d[x]\n",
    "print(A)"
   ]
  },
  {
   "cell_type": "code",
   "execution_count": 50,
   "metadata": {},
   "outputs": [],
   "source": [
    "B = np.array([[1 / n for j in range(n)] for i in range(n)])\n",
    "a = 0.85\n",
    "e = 10**(-10)"
   ]
  },
  {
   "cell_type": "code",
   "execution_count": 10,
   "metadata": {},
   "outputs": [
    {
     "name": "stdout",
     "output_type": "stream",
     "text": [
      "[[0.0375     0.0375     0.0375     0.4625    ]\n",
      " [0.32083333 0.0375     0.4625     0.4625    ]\n",
      " [0.32083333 0.8875     0.0375     0.0375    ]\n",
      " [0.32083333 0.0375     0.4625     0.0375    ]]\n"
     ]
    }
   ],
   "source": [
    "M = np.zeros((n,n))\n",
    "for i in range(n):\n",
    "    for j in range(n):\n",
    "        M[i][j] = a * A[i][j] + (1-a) * B[i][j]\n",
    "print(M)"
   ]
  },
  {
   "cell_type": "code",
   "execution_count": 61,
   "metadata": {},
   "outputs": [
    {
     "data": {
      "text/plain": [
       "array([0.12869792, 0.30095204, 0.32846364, 0.21253759])"
      ]
     },
     "execution_count": 61,
     "metadata": {},
     "output_type": "execute_result"
    }
   ],
   "source": [
    "def method(n, M, e):\n",
    "    x = np.array([1 / n for j in range(n)])\n",
    "    x_1 = np.copy(x)\n",
    "    norm = 1\n",
    "    while norm >= e:\n",
    "        for i in range(n):\n",
    "            s = 0\n",
    "            snorm = 0\n",
    "            for j in range(n):\n",
    "                s += M[i][j] * x[j]\n",
    "            x_1[i] = s\n",
    "            snorm += abs(x_1[i]-x[i])**2\n",
    "        norm = snorm**(1/2) \n",
    "        x = x_1\n",
    "    return(x)\n",
    "\n",
    "method(n, M, e)          \n",
    "\n"
   ]
  },
  {
   "cell_type": "code",
   "execution_count": null,
   "metadata": {},
   "outputs": [],
   "source": []
  },
  {
   "cell_type": "code",
   "execution_count": null,
   "metadata": {},
   "outputs": [],
   "source": []
  }
 ],
 "metadata": {
  "kernelspec": {
   "display_name": "Python 3",
   "language": "python",
   "name": "python3"
  },
  "language_info": {
   "codemirror_mode": {
    "name": "ipython",
    "version": 3
   },
   "file_extension": ".py",
   "mimetype": "text/x-python",
   "name": "python",
   "nbconvert_exporter": "python",
   "pygments_lexer": "ipython3",
   "version": "3.8.5"
  }
 },
 "nbformat": 4,
 "nbformat_minor": 4
}
