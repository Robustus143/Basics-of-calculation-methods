{
 "cells": [
  {
   "cell_type": "markdown",
   "metadata": {},
   "source": [
    "Кузь Володимир МСС-3                                                                                                        \n",
    "Лабораторна робота №2                                                                                                        \n",
    "Чисельне розв'язання СЛАР"
   ]
  },
  {
   "cell_type": "code",
   "execution_count": 1,
   "metadata": {},
   "outputs": [],
   "source": [
    "from sympy import *\n",
    "from mpmath import *\n",
    "import math\n",
    "import numpy as np\n",
    "import pprint"
   ]
  },
  {
   "cell_type": "code",
   "execution_count": 2,
   "metadata": {
    "scrolled": false
   },
   "outputs": [
    {
     "name": "stdout",
     "output_type": "stream",
     "text": [
      "[[0.09201538]\n",
      " [0.48487664]\n",
      " [0.94351586]\n",
      " [0.35392359]\n",
      " [0.59934778]]\n",
      "Matrix([\n",
      "[49,  8, 80, 34, 39],\n",
      "[ 6, 88, 60, 39, 49],\n",
      "[20, 41, 78, 83, 46],\n",
      "[28,  9, 76, 96, 85],\n",
      "[23, 48, 51, 44,  1]])\n",
      "matrix(\n",
      "[['0.294421481433894', '0.977842345034247', '0.888192630997564', '0.583434526927709', '0.232894928233909'],\n",
      " ['0.973706187848387', '0.255908611100522', '0.246118993419553', '0.0346266616168998', '0.819754142800366'],\n",
      " ['0.226372898000763', '0.544498231815092', '0.326772019472997', '0.463244864857989', '0.284012942329279'],\n",
      " ['0.512090645666222', '0.339246435283601', '0.101483357200581', '0.230559953431843', '0.330290843052788'],\n",
      " ['0.102026067964874', '0.0839724761247325', '0.828348670818065', '0.813468065128861', '0.615127700836313']])\n"
     ]
    }
   ],
   "source": [
    "n = 5\n",
    "m = 5\n",
    "e = 10**(-6)\n",
    "q = 0.9\n",
    "b = np.random.rand(n, 1)\n",
    "print(b)\n",
    "A = randMatrix(n, m)\n",
    "pprint.pprint(A)\n",
    "R = randmatrix(n, m)\n",
    "pprint.pprint(R)"
   ]
  },
  {
   "cell_type": "code",
   "execution_count": 3,
   "metadata": {
    "scrolled": true
   },
   "outputs": [
    {
     "name": "stdout",
     "output_type": "stream",
     "text": [
      "Matrix([\n",
      "[              1.0,               0.5, 0.333333333333333,              0.25,               0.2],\n",
      "[              0.5, 0.333333333333333,              0.25,               0.2, 0.166666666666667],\n",
      "[0.333333333333333,              0.25,               0.2, 0.166666666666667, 0.142857142857143],\n",
      "[             0.25,               0.2, 0.166666666666667, 0.142857142857143,             0.125],\n",
      "[              0.2, 0.166666666666667, 0.142857142857143,             0.125, 0.111111111111111]])\n",
      "[              1.0                0.5  0.333333333333333               0.25                0.2]\n",
      "[              0.5  0.333333333333333               0.25                0.2  0.166666666666667]\n",
      "[0.333333333333333               0.25                0.2  0.166666666666667  0.142857142857143]\n",
      "[             0.25                0.2  0.166666666666667  0.142857142857143              0.125]\n",
      "[              0.2  0.166666666666667  0.142857142857143              0.125  0.111111111111111]\n"
     ]
    }
   ],
   "source": [
    "def gilbert(a, b):\n",
    "    return Matrix([[1 / (i + j + 1) for j in range(b)] for i in range(a)])\n",
    "G = gilbert(5,5)\n",
    "pprint.pprint(G)\n",
    "print(hilbert(5))"
   ]
  },
  {
   "cell_type": "code",
   "execution_count": 4,
   "metadata": {},
   "outputs": [],
   "source": [
    "def check_res(A, b, x, n):\n",
    "    res = np.zeros(n)\n",
    "    for i in range(n):\n",
    "        s = 0\n",
    "        for j in range(n):\n",
    "            s += A[i, j] * x[j]\n",
    "        res[i] = s - b[i]\n",
    "    print(res)"
   ]
  },
  {
   "cell_type": "markdown",
   "metadata": {},
   "source": [
    "# Метод Якобі"
   ]
  },
  {
   "cell_type": "code",
   "execution_count": 21,
   "metadata": {},
   "outputs": [
    {
     "name": "stdout",
     "output_type": "stream",
     "text": [
      "Matrix([\n",
      "[179.888888888889,                6,               20,    28,               23],\n",
      "[               6, 172.111111111111,               41,     9,               48],\n",
      "[              20,               41, 212.111111111111,    76,               51],\n",
      "[              28,                9,               76, 221.0,               44],\n",
      "[              23,               48,               51,    44, 185.444444444444]])\n"
     ]
    }
   ],
   "source": [
    "def new_matrix(A, q, n):\n",
    "    A_j = A\n",
    "    for i in range(n):\n",
    "        s = 0\n",
    "        for j in range(n):\n",
    "            if j != i:\n",
    "                s += A_j[i, j]\n",
    "        if q*A_j[i,i] < abs(s):\n",
    "            A_j[i,i] = abs(s)/q + 1\n",
    "    return A_j\n",
    "A_j = new_matrix(A, q, n)\n",
    "pprint.pprint(A_j)"
   ]
  },
  {
   "cell_type": "code",
   "execution_count": 22,
   "metadata": {},
   "outputs": [
    {
     "name": "stdout",
     "output_type": "stream",
     "text": [
      "[-0.00017894  0.00140523  0.00378063 -0.00010672  0.00187601]\n",
      "[ 0.00000000e+00 -5.55111512e-17  1.11022302e-16  0.00000000e+00\n",
      "  0.00000000e+00]\n"
     ]
    }
   ],
   "source": [
    "def jacobi(A, b, q, eps, n):\n",
    "    x = np.zeros(n)\n",
    "    k = 1\n",
    "    while(q**k/(1-q) > eps):\n",
    "        for i in range(n):\n",
    "            s = 0\n",
    "            for j in range(i):\n",
    "                s -= A[i,j] * x[j] / A[i,i]\n",
    "            for j in range(i+1, n):\n",
    "                s -= A[i, j] * x[j] / A[i, i]\n",
    "            s += b[i] / A[i, i]\n",
    "            x[i] = s\n",
    "        k += 1\n",
    "    return x\n",
    "x_j = jacobi(A_j, b, q, e, n)\n",
    "print(x_j)\n",
    "check_res(A_j, b, x_j, n)"
   ]
  },
  {
   "cell_type": "markdown",
   "metadata": {},
   "source": [
    "# Метод Зеделя"
   ]
  },
  {
   "cell_type": "code",
   "execution_count": 7,
   "metadata": {},
   "outputs": [
    {
     "name": "stdout",
     "output_type": "stream",
     "text": [
      "Matrix([\n",
      "[179.888888888889,                6,               20,    28,               23],\n",
      "[               6, 172.111111111111,               41,     9,               48],\n",
      "[              20,               41, 212.111111111111,    76,               51],\n",
      "[              28,                9,               76, 221.0,               44],\n",
      "[              23,               48,               51,    44, 185.444444444444]])\n"
     ]
    }
   ],
   "source": [
    "def new_seidel_matrix(A, q, n):\n",
    "    A_s = A_j\n",
    "    for i in range(n-1):\n",
    "        for j in range(i+1, n):\n",
    "            A_s[i, j] = A_s[j, i]\n",
    "    return A_s\n",
    "A_s = new_seidel_matrix(А, q, n)\n",
    "pprint.pprint(A_s)"
   ]
  },
  {
   "cell_type": "code",
   "execution_count": 24,
   "metadata": {},
   "outputs": [
    {
     "name": "stdout",
     "output_type": "stream",
     "text": [
      "[-0.00017894  0.00140523  0.00378063 -0.00010672  0.00187601]\n",
      "[ 0.00000000e+00 -5.55111512e-17  1.11022302e-16  0.00000000e+00\n",
      "  0.00000000e+00]\n"
     ]
    }
   ],
   "source": [
    "def seidel(A, b, q, eps, n):\n",
    "    x = np.zeros(n)\n",
    "    x_1 = np.copy(x)\n",
    "    k = 1\n",
    "    while(q**k/(1-q) > eps):\n",
    "        for i in range(n):\n",
    "            s = 0\n",
    "            for j in range(i):\n",
    "                s -= A[i, j] * x_1[j] / A[i, i]\n",
    "            for j in range(i+1, n):\n",
    "                s -= A[i, j] * x[j] / A[i, i]\n",
    "            s += b[i] / A[i, i]\n",
    "            x_1[i] = s\n",
    "        k += 1\n",
    "        x = x_1\n",
    "    return(x)\n",
    "x_s = seidel(A_s, b, q, e, n)\n",
    "print(x_s)\n",
    "check_res(A_s, b, x_s, n)"
   ]
  },
  {
   "cell_type": "markdown",
   "metadata": {},
   "source": [
    "# Метод Гауса"
   ]
  },
  {
   "cell_type": "code",
   "execution_count": 9,
   "metadata": {},
   "outputs": [
    {
     "name": "stdout",
     "output_type": "stream",
     "text": [
      "[               1.0                 0.0                0.0               0.0  0.0]\n",
      "[0.0333539221741816                 1.0                0.0               0.0  0.0]\n",
      "[ 0.111179740580605   0.234615146621742                1.0               0.0  0.0]\n",
      "[ 0.155651636812847  0.0469201549753185  0.354220334145741               1.0  0.0]\n",
      "[ 0.127856701667696   0.274751837886715  0.186410670085709  0.13065234730043  1.0]\n",
      "[1.0  0.0  0.0  0.0  0.0]\n",
      "[0.0  1.0  0.0  0.0  0.0]\n",
      "[0.0  0.0  1.0  0.0  0.0]\n",
      "[0.0  0.0  0.0  1.0  0.0]\n",
      "[0.0  0.0  0.0  0.0  1.0]\n",
      "[179.888888888889               6.0              20.0              28.0              23.0]\n",
      "[             0.0  171.910987578066  40.3329215565164  8.06609017912291  47.2328597899938]\n",
      "[             0.0               0.0  200.424801994834  70.9945403337039  37.3613216416525]\n",
      "[             0.0               0.0               0.0  191.115582168463  24.9696994159979]\n",
      "[             0.0               0.0               0.0               0.0  159.299526427547]\n"
     ]
    }
   ],
   "source": [
    "P1, L1, U1 = lu(A)\n",
    "print(L1)\n",
    "print(P1)\n",
    "print(U1)"
   ]
  },
  {
   "cell_type": "code",
   "execution_count": 10,
   "metadata": {},
   "outputs": [
    {
     "name": "stdout",
     "output_type": "stream",
     "text": [
      "[[1.         0.         0.         0.         0.        ]\n",
      " [0.03335392 1.         0.         0.         0.        ]\n",
      " [0.11117974 0.23461515 1.         0.         0.        ]\n",
      " [0.15565164 0.04692015 0.35422033 1.         0.        ]\n",
      " [0.1278567  0.27475184 0.18641067 0.13065235 1.        ]]\n",
      "[[179.88888889   6.          20.          28.          23.        ]\n",
      " [  0.         171.91098758  40.33292156   8.06609018  47.23285979]\n",
      " [  0.           0.         200.42480199  70.99454033  37.36132164]\n",
      " [  0.           0.           0.         191.11558217  24.96969942]\n",
      " [  0.           0.           0.           0.         159.29952643]]\n"
     ]
    }
   ],
   "source": [
    "def LU(A, n):\n",
    "    L = np.eye(n)\n",
    "    U = np.zeros((n, n))\n",
    "    for i in range(n):\n",
    "        for j in range(n):\n",
    "            if i <= j:\n",
    "                s1 = 0\n",
    "                for k in range(i): \n",
    "                    s1 += L[i, k] * U[k, j]\n",
    "                U[i, j] = (A[i, j] - s1) \n",
    "            else:\n",
    "                s2 = 0\n",
    "                for k in range(j): \n",
    "                    s2 += L[i, k] * U[k, j]\n",
    "                L[i, j] = (A[i, j] - s2) / U[j, j]\n",
    "    return([L, U])\n",
    "L, U = LU(A, n)\n",
    "print(L)\n",
    "print(U)"
   ]
  },
  {
   "cell_type": "code",
   "execution_count": 16,
   "metadata": {},
   "outputs": [
    {
     "name": "stdout",
     "output_type": "stream",
     "text": [
      "[[-0.00017894]\n",
      " [ 0.00140523]\n",
      " [ 0.00378063]\n",
      " [-0.00010672]\n",
      " [ 0.00187601]]\n",
      "[ 0.00000000e+00 -5.55111512e-17  0.00000000e+00  0.00000000e+00\n",
      "  0.00000000e+00]\n"
     ]
    }
   ],
   "source": [
    "def gauss(A, L, U, b):\n",
    "    L_i = np.linalg.inv(L)\n",
    "    U_i = np.linalg.inv(U)\n",
    "    y = np.dot(L_i, b)\n",
    "    x = np.dot(U_i, y)\n",
    "    return x\n",
    "x_g = gauss(A, L, U, b)\n",
    "print(x_g)\n",
    "check_res(A, b, x_g, n)"
   ]
  }
 ],
 "metadata": {
  "kernelspec": {
   "display_name": "Python 3",
   "language": "python",
   "name": "python3"
  },
  "language_info": {
   "codemirror_mode": {
    "name": "ipython",
    "version": 3
   },
   "file_extension": ".py",
   "mimetype": "text/x-python",
   "name": "python",
   "nbconvert_exporter": "python",
   "pygments_lexer": "ipython3",
   "version": "3.8.5"
  }
 },
 "nbformat": 4,
 "nbformat_minor": 4
}
